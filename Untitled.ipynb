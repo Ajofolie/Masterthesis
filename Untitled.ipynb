{
 "cells": [
  {
   "cell_type": "code",
   "execution_count": 1,
   "id": "ab0c2dcf-1aee-45f0-ba9f-7651dee511ce",
   "metadata": {},
   "outputs": [],
   "source": [
    "from PyPDF2 import PdfFileReader, PdfFileWriter\n",
    "import fitz\n",
    "import os\n",
    "import pathlib"
   ]
  },
  {
   "cell_type": "code",
   "execution_count": 7,
   "id": "0f2ac6ff-b8e4-4ff2-911b-4f04c1ed8a7b",
   "metadata": {},
   "outputs": [
    {
     "ename": "NameError",
     "evalue": "name 'output' is not defined",
     "output_type": "error",
     "traceback": [
      "\u001b[1;31m---------------------------------------------------------------------------\u001b[0m",
      "\u001b[1;31mNameError\u001b[0m                                 Traceback (most recent call last)",
      "Input \u001b[1;32mIn [7]\u001b[0m, in \u001b[0;36m<cell line: 6>\u001b[1;34m()\u001b[0m\n\u001b[0;32m      5\u001b[0m writer\u001b[38;5;241m.\u001b[39maddPage(reader\u001b[38;5;241m.\u001b[39mgetPage(\u001b[38;5;241m0\u001b[39m))\n\u001b[0;32m      6\u001b[0m \u001b[38;5;28;01mwith\u001b[39;00m \u001b[38;5;28mopen\u001b[39m(\u001b[38;5;124m\"\u001b[39m\u001b[38;5;124mDeckblatt_Thesis_Albert.pdf\u001b[39m\u001b[38;5;124m\"\u001b[39m, \u001b[38;5;124m\"\u001b[39m\u001b[38;5;124mwb\u001b[39m\u001b[38;5;124m\"\u001b[39m) \u001b[38;5;28;01mas\u001b[39;00m output_stream:\n\u001b[1;32m----> 7\u001b[0m     \u001b[43moutput\u001b[49m\u001b[38;5;241m.\u001b[39mwrite(output_stream)\n",
      "\u001b[1;31mNameError\u001b[0m: name 'output' is not defined"
     ]
    }
   ],
   "source": [
    "#paper_path = str('LabCode/Masterthesis(7).pdf')\n",
    "#p = pathlib.Path(paper_path)\n",
    "reader = PdfFileReader('Masterthesis (7).pdf')\n",
    "writer = PdfFileWriter()\n",
    "writer.addPage(reader.getPage(0))\n",
    "with open(\"Deckblatt_Thesis_Albert.pdf\", \"wb\") as output_stream:\n",
    "    writer.write(output_stream)"
   ]
  },
  {
   "cell_type": "code",
   "execution_count": null,
   "id": "0157a919-9f31-4b58-bf24-d58f672df607",
   "metadata": {},
   "outputs": [],
   "source": []
  }
 ],
 "metadata": {
  "kernelspec": {
   "display_name": "Python 3 (ipykernel)",
   "language": "python",
   "name": "python3"
  },
  "language_info": {
   "codemirror_mode": {
    "name": "ipython",
    "version": 3
   },
   "file_extension": ".py",
   "mimetype": "text/x-python",
   "name": "python",
   "nbconvert_exporter": "python",
   "pygments_lexer": "ipython3",
   "version": "3.10.7"
  }
 },
 "nbformat": 4,
 "nbformat_minor": 5
}

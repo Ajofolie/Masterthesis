{
 "cells": [
  {
   "cell_type": "code",
   "execution_count": 1,
   "id": "7f179e81-3f14-4bbd-b629-17ca864acf7c",
   "metadata": {},
   "outputs": [],
   "source": [
    "from PyPDF2 import PdfFileReader, PdfFileWriter\n",
    "import os\n",
    "import pathlib\n",
    "import pandas as pd\n",
    "import numpy as np\n",
    "#import xlsxwriter\n",
    "#from office365.runtime.auth.authentication_context import AuthenticationContext\n",
    "#from office365.sharepoint.client_context import ClientContext\n",
    "#from office365.sharepoint.files.file import File"
   ]
  },
  {
   "cell_type": "code",
   "execution_count": 2,
   "id": "0ccc8f9c-bde8-476e-b0b8-affb2b44e732",
   "metadata": {},
   "outputs": [],
   "source": [
    "# initialerstellung der csv mit allen original PDF's\n",
    "def read_pdf_meta(path):\n",
    "    pdf_names = []\n",
    "    meta_author = []\n",
    "    meta_title = []\n",
    "    meta_date = []\n",
    "    meta_conference = []\n",
    "    meta_check = []\n",
    "    meta_list = []\n",
    "    files_path = list(path.glob('*.pdf'))\n",
    "    is_checked = True\n",
    "    \n",
    "    meta_control = pd.read_excel(str(path) + '/metadata_list.xlsx') # was wenn Datei noch nicht existiert?\n",
    "    #Itertion über alle files\n",
    "    for file in files_path:\n",
    "        cur_reader = PdfFileReader(file)\n",
    "        cur_pdf_name = pathlib.Path(file).name #holen PDF Name\n",
    "        #Falls Name der Datei schon in der Excel, hole dir die Stelle dieser PDF in der Excel\n",
    "        if(cur_pdf_name in meta_control.values):\n",
    "            cur_index = meta_control.loc[meta_control['PDF'] == cur_pdf_name]\n",
    "            if(pd.isna(cur_index.Check.iloc[0])): #wenn Check bei der PDF leer, dann check auf False\n",
    "                is_checked = False\n",
    "        #Falls name der Datei nicht in der Excel, hole die Metadaten und speicher diese weg     \n",
    "        if(cur_pdf_name not in meta_control.values):\n",
    "            pdf_names.append(cur_pdf_name)\n",
    "            meta_title.append(cur_reader.getDocumentInfo()['/Title'])\n",
    "            meta_author.append(cur_reader.getDocumentInfo()['/Author'])\n",
    "            meta_date.append(cur_reader.getDocumentInfo()['/CreationDate'])\n",
    "            meta_conference.append(cur_reader.getDocumentInfo()['/ConferenceName'])\n",
    "            meta_check.append('')\n",
    "\n",
    "            #Erstellung Dictionary mit den Metadaten der PDF's\n",
    "            meta_list = {'PDF': pdf_names,\n",
    "                        'Titles': meta_title,\n",
    "                        'Authors': meta_author,\n",
    "                        'Date': meta_date,\n",
    "                        'Conference': meta_conference,\n",
    "                        'Check': meta_check}\n",
    "            #Erstellung als DataFrame aus Dictionary\n",
    "            df_meta = pd.DataFrame(meta_list)\n",
    "            #Zusammenfügen der bereits existierenden Datei und den neuen Metadaten\n",
    "            meta_control = pd.concat([meta_control, df_meta])\n",
    "            #Ausgabe Excel\n",
    "            meta_control.to_excel(str(path) + '/metadata_list.xlsx', index=False, header=True)\n",
    "            #Öffnen der Excel falls unvollständig\n",
    "            os.system(\"start EXCEL.EXE \" + str(path) + \"/metadata_list.xlsx\")\n",
    "            raise Exception('Anpassen der Metadaten wegen neuer Datei notwendig. Datei wird geöffnet.\\n\\t\\tAnschließend Programm neustarten.')\n",
    "    #weitere Prüfung auf Check, dann auch öffnen der Datei   \n",
    "    if(not is_checked):\n",
    "        os.system(\"start EXCEL.EXE \" + str(path) + \"/metadata_list.xlsx\")\n",
    "        raise Exception('Anpassen der Metadaten in Datei notwendig. Datei wird geöffnet.\\n\\t\\tAnschließend Programm neustarten.')\n",
    "\n",
    "    return(meta_control)"
   ]
  },
  {
   "cell_type": "code",
   "execution_count": 3,
   "id": "f460d7a4-29ba-40ab-8ea8-1dba44f7d4f4",
   "metadata": {},
   "outputs": [],
   "source": [
    "# Anpassung der Metadaten in den eigentlichen PDF's:\n",
    "def write_pdf_meta(path):\n",
    "    \n",
    "    #Einlesen der Excel\n",
    "    excel_meta = pd.read_excel(str(path) + '/metadata_list.xlsx')\n",
    "    #Iteration über jeden Eintrag und Veränderung der Metadaten für jeweilige PDF anhand der Einträge in Excel\n",
    "    for x in range(len(excel_meta)):\n",
    "        cur_pdf = excel_meta['PDF'][x]\n",
    "        cur_pdf_full = pdf_path + cur_pdf\n",
    "        cur_reader = PdfFileReader(cur_pdf_full)\n",
    "        cur_writer = PdfFileWriter()\n",
    "        cur_writer.appendPagesFromReader(cur_reader)\n",
    "        cur_metadata = cur_reader.getDocumentInfo()\n",
    "        cur_writer.addMetadata(cur_metadata)\n",
    "        cur_writer.addMetadata({\"/Title\": excel_meta['Titles'][x]})\n",
    "        cur_writer.addMetadata({\"/Author\": excel_meta['Authors'][x]})\n",
    "        #custom Metadata für Konferenzen\n",
    "        cur_writer.addMetadata({\"/CreationDate\": str(excel_meta['Date'][x])})\n",
    "        cur_writer.addMetadata({\"/ConferenceName\": excel_meta['Conference'][x]})\n",
    "        with open(cur_pdf_full, \"wb\") as fp:\n",
    "            cur_writer.write(fp)\n"
   ]
  },
  {
   "cell_type": "code",
   "execution_count": 5,
   "id": "6a79ba62-31f9-4d86-8d08-d9784219b19c",
   "metadata": {},
   "outputs": [],
   "source": [
    "pdf_path = 'C:/Users/Jana/OneDrive/Dokumente/Desktop/Uni/Master/Thesis/PaperDatenextraktion/'\n",
    "p = pathlib.Path(pdf_path)\n",
    "df_pdf_meta = read_pdf_meta(p)\n",
    "write_pdf_meta(pdf_path)"
   ]
  }
 ],
 "metadata": {
  "kernelspec": {
   "display_name": "Python 3 (ipykernel)",
   "language": "python",
   "name": "python3"
  },
  "language_info": {
   "codemirror_mode": {
    "name": "ipython",
    "version": 3
   },
   "file_extension": ".py",
   "mimetype": "text/x-python",
   "name": "python",
   "nbconvert_exporter": "python",
   "pygments_lexer": "ipython3",
   "version": "3.10.7"
  }
 },
 "nbformat": 4,
 "nbformat_minor": 5
}

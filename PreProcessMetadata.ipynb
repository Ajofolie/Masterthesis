{
 "cells": [
  {
   "cell_type": "code",
   "execution_count": 412,
   "id": "7f179e81-3f14-4bbd-b629-17ca864acf7c",
   "metadata": {},
   "outputs": [],
   "source": [
    "from PyPDF2 import PdfFileReader, PdfFileWriter\n",
    "import os\n",
    "import pathlib\n",
    "import pandas as pd\n",
    "import numpy as np\n",
    "#import xlsxwriter\n",
    "#from office365.runtime.auth.authentication_context import AuthenticationContext\n",
    "#from office365.sharepoint.client_context import ClientContext\n",
    "#from office365.sharepoint.files.file import File"
   ]
  },
  {
   "cell_type": "code",
   "execution_count": 413,
   "id": "0ccc8f9c-bde8-476e-b0b8-affb2b44e732",
   "metadata": {},
   "outputs": [],
   "source": [
    "# initialerstellung der csv mit allen original PDF's\n",
    "# ToDo: Veröffentlichungsdatum hinzufügen\n",
    "def read_pdf_meta(path):\n",
    "    pdf_names = []\n",
    "    meta_author = []\n",
    "    meta_title = []\n",
    "    meta_date = []\n",
    "    meta_check = []\n",
    "    meta_list = []\n",
    "    files_path = list(path.glob('*.pdf'))\n",
    "    is_checked = True\n",
    "    meta_control = pd.read_excel(str(path) + '/metadata_list.xlsx') # was wenn Datei noc nicht existiert?\n",
    "    \n",
    "    for file in files_path:\n",
    "        cur_reader = PdfFileReader(file)\n",
    "        cur_pdf_name = pathlib.Path(file).name\n",
    "        \n",
    "        if(cur_pdf_name in meta_control.values):\n",
    "            cur_index = meta_control.loc[meta_control['PDF'] == cur_pdf_name]\n",
    "            if(pd.isna(cur_index.Check.iloc[0])):\n",
    "                is_checked = False\n",
    "                \n",
    "        if(cur_pdf_name not in meta_control.values):\n",
    "            pdf_names.append(cur_pdf_name)\n",
    "            meta_title.append(cur_reader.getDocumentInfo()['/Title'])\n",
    "            meta_author.append(cur_reader.getDocumentInfo()['/Author'])\n",
    "            meta_date.append(cur_reader.getDocumentInfo()['/CreationDate'])\n",
    "            meta_check.append('')\n",
    "\n",
    "# Erstellung .csv mit Papern (Titel, Autoren)\n",
    "            meta_list = {'PDF': pdf_names,\n",
    "                        'Titles': meta_title,\n",
    "                        'Authors': meta_author,\n",
    "                        'Date': meta_date,\n",
    "                        'Check': meta_check}\n",
    "            \n",
    "            df_meta = pd.DataFrame(meta_list)\n",
    "            meta_control = pd.concat([meta_control, df_meta])\n",
    "            meta_control.to_excel(str(path) + '/metadata_list.xlsx', index=False, header=True)\n",
    "            os.system(\"start EXCEL.EXE \" + str(path) + \"/metadata_list.xlsx\")\n",
    "            raise Exception('Anpassen der Metadaten wegen neuer Datei notwendig. Datei wird geöffnet.\\n\\t\\tAnschließend Programm neustarten.')\n",
    "        \n",
    "    if(not is_checked):\n",
    "        os.system(\"start EXCEL.EXE \" + str(path) + \"/metadata_list.xlsx\")\n",
    "        raise Exception('Anpassen der Metadaten in Datei notwendig. Datei wird geöffnet.\\n\\t\\tAnschließend Programm neustarten.')\n",
    "\n",
    "    return(meta_control)"
   ]
  },
  {
   "cell_type": "code",
   "execution_count": 414,
   "id": "f460d7a4-29ba-40ab-8ea8-1dba44f7d4f4",
   "metadata": {},
   "outputs": [],
   "source": [
    "# Anpassung der Metadaten:\n",
    "def write_pdf_meta(path):\n",
    "    \n",
    "#Einlesen der Excel\n",
    "    excel_meta = pd.read_excel(str(path) + '/metadata_list.xlsx')\n",
    "\n",
    "    for x in range(len(excel_meta)):\n",
    "        cur_pdf = excel_meta['PDF'][x]\n",
    "        cur_pdf_full = pdf_path + cur_pdf\n",
    "        cur_reader = PdfFileReader(cur_pdf_full)\n",
    "        cur_writer = PdfFileWriter()\n",
    "        cur_writer.appendPagesFromReader(cur_reader)\n",
    "        cur_metadata = cur_reader.getDocumentInfo()\n",
    "        cur_writer.addMetadata(cur_metadata)\n",
    "        cur_writer.addMetadata({\"/Title\": excel_meta['Titles'][x]})\n",
    "        cur_writer.addMetadata({\"/Author\": excel_meta['Authors'][x]})\n",
    "        cur_writer.addMetadata({\"/CreationDate\": str(excel_meta['Date'][x])})\n",
    "        with open(cur_pdf_full, \"wb\") as fp:\n",
    "            cur_writer.write(fp)\n"
   ]
  },
  {
   "cell_type": "code",
   "execution_count": 415,
   "id": "6a79ba62-31f9-4d86-8d08-d9784219b19c",
   "metadata": {},
   "outputs": [],
   "source": [
    "pdf_path = 'C:/Users/Jana/OneDrive/Dokumente/Desktop/Uni/Master/Thesis/PaperDatenextraktion/'\n",
    "p = pathlib.Path(pdf_path)\n",
    "df_pdf_meta = read_pdf_meta(p)\n",
    "write_pdf_meta(pdf_path)"
   ]
  },
  {
   "cell_type": "code",
   "execution_count": 416,
   "id": "1d61b85a-3331-4d98-b209-76a0f83d0f5a",
   "metadata": {},
   "outputs": [
    {
     "name": "stdout",
     "output_type": "stream",
     "text": [
      "{'/Producer': 'Microsoft® Office Word 2007', '/Title': 'Introduction to IOT', '/Author': 'Pradyumna Gokhale, Omkar Bhat, Sagar Bhat', '/Subject': 'Research Methodology', '/Keywords': 'STP', '/Creator': 'Microsoft® Office Word 2007', '/CreationDate': '2018', '/ModDate': 'D:20180207133638', '/rgid': 'PB:330114646_AS:711017873043458@1546531279502', '/title': 'Introduction to IOT'}\n"
     ]
    }
   ],
   "source": [
    "pdf = 'C:/Users/Jana/OneDrive/Dokumente/Desktop/Uni/Master/Thesis/PaperDatenextraktion/IARJSET7.pdf'\n",
    "reader = PdfFileReader(pdf)\n",
    "test = reader.getDocumentInfo()\n",
    "print(test)"
   ]
  },
  {
   "cell_type": "code",
   "execution_count": null,
   "id": "9596e4c2-e23e-4b53-8008-1b6414813d7c",
   "metadata": {},
   "outputs": [],
   "source": []
  }
 ],
 "metadata": {
  "kernelspec": {
   "display_name": "Python 3 (ipykernel)",
   "language": "python",
   "name": "python3"
  },
  "language_info": {
   "codemirror_mode": {
    "name": "ipython",
    "version": 3
   },
   "file_extension": ".py",
   "mimetype": "text/x-python",
   "name": "python",
   "nbconvert_exporter": "python",
   "pygments_lexer": "ipython3",
   "version": "3.10.4"
  }
 },
 "nbformat": 4,
 "nbformat_minor": 5
}

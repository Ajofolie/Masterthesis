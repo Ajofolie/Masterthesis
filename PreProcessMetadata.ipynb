{
 "cells": [
  {
   "cell_type": "code",
   "execution_count": 211,
   "id": "7f179e81-3f14-4bbd-b629-17ca864acf7c",
   "metadata": {},
   "outputs": [],
   "source": [
    "from PyPDF2 import PdfFileReader, PdfFileWriter\n",
    "import os\n",
    "import pathlib\n",
    "import pandas as pd\n",
    "import numpy as np\n",
   ]
  },
  {
   "cell_type": "code",
   "execution_count": 61,
   "id": "1386bc39-0876-4d88-a9b2-d37bc8223f72",
   "metadata": {},
   "outputs": [
    {
     "name": "stderr",
     "output_type": "stream",
     "text": [
      "Xref table not zero-indexed. ID numbers for objects will be corrected.\n"
     ]
    },
    {
     "name": "stdout",
     "output_type": "stream",
     "text": [
      "{'/Author': '', '/CreationDate': \"D:20121220103154+08'00'\", '/Creator': 'Arbortext Advanced Print Publisher 9.1.440/W Unicode', '/Keywords': 'Internet of things,Cloud versus edges,Ethics,Disruptive,Collaboration', '/ModDate': \"D:20150805175452+05'30'\", '/Producer': 'Acrobat Distiller 11.0.9(Windows)', '/Subject': '', '/Title': ''}\n"
     ]
    }
   ],
   "source": [
    "\n",
    "#Einlesen PDF\n",
    "\n",
    "\n",
    "#pdf Namen angeben\n",
    "pdf_name = 'VanKranenburg-Bassi2012_Article_IoTChallenges' \n",
    "\n",
    "pdf_full = pdf_path + pdf_name + '.pdf'\n",
    "reader = PdfFileReader(pdf_full)\n",
    "writer = PdfFileWriter()\n",
    "\n",
    "writer.appendPagesFromReader(reader)\n",
    "metadata = reader.getDocumentInfo()\n",
    "writer.addMetadata(metadata)\n",
    "#print(pdf_full)\n",
    "print(metadata)\n",
    "\n"
   ]
  },
  {
   "cell_type": "code",
   "execution_count": 297,
   "id": "0ccc8f9c-bde8-476e-b0b8-affb2b44e732",
   "metadata": {},
   "outputs": [],
   "source": [
    "# initialerstellung der csv mit allen original PDF's\n",
    "#ToDo: Fehlerhandling wenn Datei noch nicht existiert oder leer ist\n",
    "def read_pdf_meta(path):\n",
    "    pdf_names = []\n",
    "    meta_author = []\n",
    "    meta_title = []\n",
    "    meta_check = []\n",
    "    meta_list = []\n",
    "    files_path = list(path.glob('*.pdf'))\n",
    "    is_checked = True\n",
    "    meta_control = pd.read_excel(str(path) + '/metadata_list.xlsx')\n",
    "    \n",
    "    for file in files_path:\n",
    "        cur_reader = PdfFileReader(file)\n",
    "        cur_pdf_name = pathlib.Path(file).name\n",
    "        \n",
    "        if(cur_pdf_name in meta_control.values):\n",
    "            cur_index = meta_control.loc[meta_control['PDF'] == cur_pdf_name]\n",
    "            if(pd.isna(cur_index.Check.iloc[0])):\n",
    "                is_checked = False\n",
    "        else:\n",
    "            pdf_names.append(cur_pdf_name)\n",
    "            meta_title.append(cur_reader.getDocumentInfo().title)\n",
    "            meta_author.append(cur_reader.getDocumentInfo().author)\n",
    "            meta_check.append('')\n",
    "\n",
    "# Erstellung .csv mit Papern (Titel, Autoren)\n",
    "            meta_list = {'PDF': pdf_names,\n",
    "                        'Titles': meta_title,\n",
    "                        'Authors': meta_author,\n",
    "                        'Check': meta_check}\n",
    "\n",
    "    df_meta = pd.DataFrame(meta_list)\n",
    "    meta_control = pd.concat([meta_control, df_meta])\n",
    "    meta_control.to_excel(str(path) + '/metadata_list.xlsx', index=False, header=True)\n",
    "    if(not is_checked):\n",
    "        os.system(\"start EXCEL.EXE \" + str(path) + \"/metadata_list.xlsx\")\n",
    "        raise Exception('Anpassen der Metadaten in Datei notwendig. Datei wird geöffnet.\\n\\t\\tAnschließend Programm neustarten.')\n",
    "\n",
    "    return(meta_control)"
   ]
  },
  {
   "cell_type": "code",
   "execution_count": 298,
   "id": "6a79ba62-31f9-4d86-8d08-d9784219b19c",
   "metadata": {},
   "outputs": [
    {
     "ename": "Exception",
     "evalue": "Anpassen der Metadaten in Datei notwendig. Datei wird geöffnet.\n\t\tAnschließend Programm neustarten.",
     "output_type": "error",
     "traceback": [
      "\u001b[1;31m---------------------------------------------------------------------------\u001b[0m",
      "\u001b[1;31mException\u001b[0m                                 Traceback (most recent call last)",
      "Input \u001b[1;32mIn [298]\u001b[0m, in \u001b[0;36m<cell line: 3>\u001b[1;34m()\u001b[0m\n\u001b[0;32m      1\u001b[0m pdf_path \u001b[38;5;241m=\u001b[39m \u001b[38;5;124m'\u001b[39m\u001b[38;5;124mC:/Users/Jana/OneDrive/Dokumente/Desktop/Uni/Master/Thesis/PaperDatenextraktion\u001b[39m\u001b[38;5;124m'\u001b[39m\n\u001b[0;32m      2\u001b[0m p \u001b[38;5;241m=\u001b[39m pathlib\u001b[38;5;241m.\u001b[39mPath(pdf_path)\n\u001b[1;32m----> 3\u001b[0m df_pdf_meta \u001b[38;5;241m=\u001b[39m \u001b[43mread_pdf_meta\u001b[49m\u001b[43m(\u001b[49m\u001b[43mp\u001b[49m\u001b[43m)\u001b[49m\n",
      "Input \u001b[1;32mIn [297]\u001b[0m, in \u001b[0;36mread_pdf_meta\u001b[1;34m(path)\u001b[0m\n\u001b[0;32m     36\u001b[0m \u001b[38;5;28;01mif\u001b[39;00m(\u001b[38;5;129;01mnot\u001b[39;00m is_checked):\n\u001b[0;32m     37\u001b[0m     os\u001b[38;5;241m.\u001b[39msystem(\u001b[38;5;124m\"\u001b[39m\u001b[38;5;124mstart EXCEL.EXE \u001b[39m\u001b[38;5;124m\"\u001b[39m \u001b[38;5;241m+\u001b[39m \u001b[38;5;28mstr\u001b[39m(path) \u001b[38;5;241m+\u001b[39m \u001b[38;5;124m\"\u001b[39m\u001b[38;5;124m/metadata_list.xlsx\u001b[39m\u001b[38;5;124m\"\u001b[39m)\n\u001b[1;32m---> 38\u001b[0m     \u001b[38;5;28;01mraise\u001b[39;00m \u001b[38;5;167;01mException\u001b[39;00m(\u001b[38;5;124m'\u001b[39m\u001b[38;5;124mAnpassen der Metadaten in Datei notwendig. Datei wird geöffnet.\u001b[39m\u001b[38;5;130;01m\\n\u001b[39;00m\u001b[38;5;130;01m\\t\u001b[39;00m\u001b[38;5;130;01m\\t\u001b[39;00m\u001b[38;5;124mAnschließend Programm neustarten.\u001b[39m\u001b[38;5;124m'\u001b[39m)\n\u001b[0;32m     40\u001b[0m \u001b[38;5;28;01mreturn\u001b[39;00m(meta_control)\n",
      "\u001b[1;31mException\u001b[0m: Anpassen der Metadaten in Datei notwendig. Datei wird geöffnet.\n\t\tAnschließend Programm neustarten."
     ]
    }
   ],
   "source": [
    "pdf_path = 'C:/Users/Jana/OneDrive/Dokumente/Desktop/Uni/Master/Thesis/PaperDatenextraktion'\n",
    "p = pathlib.Path(pdf_path)\n",
    "df_pdf_meta = read_pdf_meta(p)"
   ]
  },
  {
   "cell_type": "code",
   "execution_count": null,
   "id": "7cccf869-8ce7-4a2f-8bcf-5384c360963b",
   "metadata": {},
   "outputs": [],
   "source": []
  },
  {
   "cell_type": "code",
   "execution_count": null,
   "id": "706b10bc-8e68-4483-9a79-6b75374b41ff",
   "metadata": {},
   "outputs": [],
   "source": [
    "#Einlesen der csv und Metadaten der PDF nach manueller Anpassung der csv korrigieren\n",
    "def korr_pdf_meta(csv_meta)\n",
    "    "
   ]
  },
  {
   "cell_type": "code",
   "execution_count": null,
   "id": "d2a7abcc-ec40-47d1-9741-5bfafc9ac003",
   "metadata": {},
   "outputs": [],
   "source": [
    "korr_pdf_meta(csv_metadata)"
   ]
  },
  {
   "cell_type": "code",
   "execution_count": 62,
   "id": "f460d7a4-29ba-40ab-8ea8-1dba44f7d4f4",
   "metadata": {},
   "outputs": [],
   "source": [
    "# Anpassung der Metadaten:\n",
    "writer.addMetadata({\"/Title\": \"IoT Challenges\"})\n",
    "writer.addMetadata({\"/Author\": \"Rob van Kranenburg, Alex Bassi\"})\n",
    "\n",
    "with open(pdf_full, \"wb\") as fp:\n",
    "    writer.write(fp)"
   ]
  },
  {
   "cell_type": "code",
   "execution_count": 63,
   "id": "d6d0246c-ba85-421e-9da2-f861bf84c038",
   "metadata": {},
   "outputs": [
    {
     "name": "stdout",
     "output_type": "stream",
     "text": [
      "{'/Producer': 'Acrobat Distiller 11.0.9(Windows)', '/Author': 'Rob van Kranenburg, Alex Bassi', '/CreationDate': \"D:20121220103154+08'00'\", '/Creator': 'Arbortext Advanced Print Publisher 9.1.440/W Unicode', '/Keywords': 'Internet of things,Cloud versus edges,Ethics,Disruptive,Collaboration', '/ModDate': \"D:20150805175452+05'30'\", '/Subject': '', '/Title': 'IoT Challenges'}\n"
     ]
    }
   ],
   "source": [
    "reader = PdfFileReader(pdf_full)\n",
    "metadata = reader.getDocumentInfo()\n",
    "print(metadata)"
   ]
  }
 ],
 "metadata": {
  "kernelspec": {
   "display_name": "Python 3 (ipykernel)",
   "language": "python",
   "name": "python3"
  },
  "language_info": {
   "codemirror_mode": {
    "name": "ipython",
    "version": 3
   },
   "file_extension": ".py",
   "mimetype": "text/x-python",
   "name": "python",
   "nbconvert_exporter": "python",
   "pygments_lexer": "ipython3",
   "version": "3.10.4"
  }
 },
 "nbformat": 4,
 "nbformat_minor": 5
}

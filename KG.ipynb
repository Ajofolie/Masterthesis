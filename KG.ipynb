{
 "cells": [
  {
   "cell_type": "code",
   "execution_count": 1,
   "id": "5e9acc05-78ce-456d-8517-a9fac684d231",
   "metadata": {},
   "outputs": [],
   "source": [
    "import matplotlib.pyplot as plt\n",
    "import math\n",
    "import networkx as nx\n",
    "from rdflib.extras.external_graph_libs import rdflib_to_networkx_digraph\n",
    "from rdflib import Graph, Literal, RDF, URIRef\n",
    "from rdflib import Namespace\n",
    "from rdflib.namespace import DC, FOAF, RDF\n",
    "g \n",
    "n = Namespace('http://G_KG.org/')\n",
    "g.bind('G_KG',n)\n",
    "g.bind('dc',dc)\n",
    "g.bind('FOAF',FOAF)\n",
    "g.bind('rdf',rdf)"
   ]
  },
  {
   "cell_type": "code",
   "execution_count": 1197,
   "id": "1b4c5149-1c3e-4412-b77f-e38a64a9b017",
   "metadata": {},
   "outputs": [],
   "source": [
    "def get_entity_rel(df_pdf_meta, g, keyword_list_paper, keyword_list_con):\n",
    "\n",
    "#Literale nicht abfragbar?????\n",
    "\n",
    "    for i in range(len(df_pdf_meta)):\n",
    "        authors =  df_pdf_meta['Authors'][i].split(',')\n",
    "        date = df_pdf_meta['Date'][i] #aktuelles Datum\n",
    "        date_cur = Literal(date)\n",
    "        titel = df_pdf_meta['Titles'][i].strip()\n",
    "        title_cur = Literal(titel) #aktueller Titel\n",
    "        con = df_pdf_meta['Conference'][i].strip()\n",
    "        con_cur = Literal(con) #aktuelle Konferenz\n",
    "\n",
    "        g.add((n.paper, DC.title, title_cur))\n",
    "        g.add((title_cur, DC.date, date_cur))\n",
    "        g.add((n.conference, DC.title, con_cur))\n",
    "        g.add((title_cur, DC.publisher, con_cur))\n",
    "\n",
    "        for author in authors:\n",
    "            author = author.strip()\n",
    "            author_cur = Literal(author)\n",
    "            g.add((n.Autor, FOAF.name, author_cur))\n",
    "            g.add((author_cur, DC.creator, title_cur))\n",
    "\n",
    "        for j in range(len(keyword_list_paper['keywords'])):\n",
    "            #Festlegung mindest Relevanz\n",
    "            if keyword_list_paper['relevance'][j] > 0.4:\n",
    "                pk_cur = Literal(keyword_list_paper['keywords'][j])\n",
    "                g.add((n.ThemengebietPaper, RDF.type, pk_cur))\n",
    "                if df_pdf_meta['Titles'][i] == keyword_list_paper['paper'][j]:\n",
    "                    #Beziehung zwischen Titeln und keywords mit Attribut label handelt von\n",
    "                    g.add((title_cur, DC.subject, pk_cur))\n",
    "\n",
    "        #Themen Konferenzen     \n",
    "        for j in range(len(keyword_list_con['keywords'])):\n",
    "            #Festlegung mindest Relevanz\n",
    "            if keyword_list_con['relevance'][j] > 0.44:\n",
    "                #Knotenerstellung aller keywords mit Attribut typ Thema Konferenz\n",
    "                ck_cur = Literal(keyword_list_con['keywords'][j])\n",
    "                g.add((n.ThemengebietKonferenz, RDF.type, ck_cur))\n",
    "                if df_pdf_meta['Conference'][i] == keyword_list_con['conference'][j]:\n",
    "                    #Beziehung zwischen Konferenzen und keywords mit Attribut label thematisiert\n",
    "                    g.add((con_cur, DC.subject, ck_cur))\n",
    "    return g"
   ]
  },
  {
   "cell_type": "code",
   "execution_count": 3,
   "id": "83c3043f-5d42-47eb-8524-05e38208b2e6",
   "metadata": {},
   "outputs": [],
   "source": [
    "#Ausgabe Graph\n",
    "def show_graph(g):\n",
    "    G_RDF_NX = rdflib_to_networkx_digraph(g)\n",
    "    plt.figure(figsize=(25,15))\n",
    "    pos = nx.spring_layout(G_RDF_NX, k=10/math.sqrt(G_RDF_NX.order())) # Layout Graph\n",
    "    d = dict(G_RDF_NX.degree)\n",
    "    nx.draw_networkx(G_RDF_NX, with_labels=True, pos=pos, node_size=[v * 50 for v in d.values()], edge_color= 'grey', font_family = 'Arial')\n",
    "    #plt.show()\n",
    "    #plt.savefig(\"G_KG.png\", format=\"PNG\")"
   ]
  }
 ],
 "metadata": {
  "kernelspec": {
   "display_name": "Python 3 (ipykernel)",
   "language": "python",
   "name": "python3"
  },
  "language_info": {
   "codemirror_mode": {
    "name": "ipython",
    "version": 3
   },
   "file_extension": ".py",
   "mimetype": "text/x-python",
   "name": "python",
   "nbconvert_exporter": "python",
   "pygments_lexer": "ipython3",
   "version": "3.10.7"
  }
 },
 "nbformat": 4,
 "nbformat_minor": 5
}
